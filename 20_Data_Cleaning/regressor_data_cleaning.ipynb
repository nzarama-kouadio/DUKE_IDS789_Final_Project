{
 "cells": [
  {
   "cell_type": "code",
   "execution_count": 7,
   "metadata": {
    "vscode": {
     "languageId": "r"
    }
   },
   "outputs": [],
   "source": [
    "# Load libraries\n",
    "#install.packages(c(\"readr\", \"dplyr\"))\n",
    "library(readxl)\n",
    "library(dplyr)\n",
    "library(readr)\n",
    "# Inflation rate: https://fred.stlouisfed.org/series/FPCPITOTLZGUSA"
   ]
  },
  {
   "cell_type": "markdown",
   "metadata": {},
   "source": [
    "# Part 1: Clean Population Data"
   ]
  },
  {
   "cell_type": "code",
   "execution_count": 8,
   "metadata": {
    "vscode": {
     "languageId": "r"
    }
   },
   "outputs": [
    {
     "data": {
      "text/html": [
       "0"
      ],
      "text/latex": [
       "0"
      ],
      "text/markdown": [
       "0"
      ],
      "text/plain": [
       "[1] 0"
      ]
     },
     "metadata": {},
     "output_type": "display_data"
    },
    {
     "name": "stderr",
     "output_type": "stream",
     "text": [
      "Warning message:\n",
      "“NAs introduced by coercion”\n"
     ]
    },
    {
     "name": "stdout",
     "output_type": "stream",
     "text": [
      "Rows: 162\n",
      "Columns: 3\n",
      "$ time_as_date    \u001b[3m\u001b[90m<date>\u001b[39m\u001b[23m 1984-01-01, 1984-04-01, 1984-07-01, 1984-10-01, 1985-…\n",
      "$ time_as_numeric \u001b[3m\u001b[90m<dbl>\u001b[39m\u001b[23m 5113, 5204, 5295, 5387, 5479, 5569, 5660, 5752, 5844, …\n",
      "$ population      \u001b[3m\u001b[90m<dbl>\u001b[39m\u001b[23m 235604667, 236082333, 236657333, 237232667, 237672667,…\n"
     ]
    },
    {
     "data": {
      "text/html": [
       "0"
      ],
      "text/latex": [
       "0"
      ],
      "text/markdown": [
       "0"
      ],
      "text/plain": [
       "[1] 0"
      ]
     },
     "metadata": {},
     "output_type": "display_data"
    }
   ],
   "source": [
    "pop_raw <- read.csv(\"/workspaces/DUKE_IDS789_Final_Project/10_Datasets/population.csv\")\n",
    "\n",
    "sum(is.na(pop_raw$POPTHM))\n",
    "\n",
    "# Creating new column population\n",
    "pop_raw$population <- pop_raw$POPTHM\n",
    "\n",
    "# Making column pop into a numeric\n",
    "pop_raw$population <- as.numeric(as.character(pop_raw$POPTHM))\n",
    "\n",
    "# Converting pop into the right unit by multiplything by 1000\n",
    "pop_raw$population <- pop_raw$population * 1000\n",
    "\n",
    "# Time as a date\n",
    "pop_raw$DATE <- as.character(pop_raw$DATE)\n",
    "pop_raw$time_as_date <- as.Date(pop_raw$DATE, format = \"%Y-%m-%d\")\n",
    "\n",
    "# Time as numeric (used in certain regression models or methods)\n",
    "pop_raw$time_as_numeric <- as.numeric(pop_raw$time_as_date)\n",
    "\n",
    "# Filter data between 1984-01-01 and 2024-04-01\n",
    "pop_raw <- pop_raw[pop_raw$time_as_date >= as.Date(\"1984-01-01\") & pop_raw$time_as_date <= as.Date(\"2024-04-01\"), ]\n",
    "\n",
    "# Keep only the relevant columns\n",
    "columns_to_keep <- c(\"time_as_date\", \"time_as_numeric\", \"population\")\n",
    "pop_filtered <- pop_raw[, columns_to_keep]\n",
    "\n",
    "# Check\n",
    "glimpse(pop_filtered)\n",
    "sum(is.na(pop_filtered))"
   ]
  },
  {
   "cell_type": "markdown",
   "metadata": {},
   "source": [
    "# Part 2: Clean Unemployment Rate"
   ]
  },
  {
   "cell_type": "code",
   "execution_count": 9,
   "metadata": {
    "vscode": {
     "languageId": "r"
    }
   },
   "outputs": [
    {
     "name": "stdout",
     "output_type": "stream",
     "text": [
      "Rows: 308\n",
      "Columns: 2\n",
      "$ DATE   \u001b[3m\u001b[90m<chr>\u001b[39m\u001b[23m \"1948-01-01\", \"1948-04-01\", \"1948-07-01\", \"1948-10-01\", \"1949-0…\n",
      "$ UNRATE \u001b[3m\u001b[90m<chr>\u001b[39m\u001b[23m \"3.7333333333333333\", \"3.6666666666666667\", \"3.7666666666666667…\n"
     ]
    },
    {
     "name": "stderr",
     "output_type": "stream",
     "text": [
      "Warning message:\n",
      "“NAs introduced by coercion”\n"
     ]
    },
    {
     "name": "stdout",
     "output_type": "stream",
     "text": [
      "Rows: 162\n",
      "Columns: 3\n",
      "$ time_as_date      \u001b[3m\u001b[90m<date>\u001b[39m\u001b[23m 1984-01-01, 1984-04-01, 1984-07-01, 1984-10-01, 198…\n",
      "$ time_as_numeric   \u001b[3m\u001b[90m<dbl>\u001b[39m\u001b[23m 5113, 5204, 5295, 5387, 5479, 5569, 5660, 5752, 5844…\n",
      "$ unemployment_rate \u001b[3m\u001b[90m<dbl>\u001b[39m\u001b[23m 0.07866667, 0.07433333, 0.07433333, 0.07300000, 0.07…\n"
     ]
    },
    {
     "data": {
      "text/html": [
       "0"
      ],
      "text/latex": [
       "0"
      ],
      "text/markdown": [
       "0"
      ],
      "text/plain": [
       "[1] 0"
      ]
     },
     "metadata": {},
     "output_type": "display_data"
    }
   ],
   "source": [
    "unemployment_rate_raw <- read.csv(\"/workspaces/DUKE_IDS789_Final_Project/10_Datasets/unemployement_rate.csv\")\n",
    "glimpse(unemployment_rate_raw)\n",
    "\n",
    "# Creating new column for rate\n",
    "unemployment_rate_raw$unemployment_rate <- unemployment_rate_raw$UNRATE\n",
    "\n",
    "# Making column pop into a numeric\n",
    "unemployment_rate_raw$unemployment_rate <- as.numeric(as.character(unemployment_rate_raw$UNRATE))\n",
    "\n",
    "# Converting pop into a decima since it's in percentage \n",
    "unemployment_rate_raw$unemployment_rate <- unemployment_rate_raw$unemployment_rate / 100\n",
    "\n",
    "# Time as a date\n",
    "unemployment_rate_raw$DATE <- as.character(unemployment_rate_raw$DATE)\n",
    "unemployment_rate_raw$time_as_date <- as.Date(unemployment_rate_raw$DATE, format = \"%Y-%m-%d\")\n",
    "\n",
    "# Time as numeric (used in certain regression models or methods)\n",
    "unemployment_rate_raw$time_as_numeric <- as.numeric(unemployment_rate_raw$time_as_date)\n",
    "\n",
    "# Filter data between 1984-01-01 and 2024-04-01\n",
    "unemployment_rate_raw <- unemployment_rate_raw[unemployment_rate_raw$time_as_date >= as.Date(\"1984-01-01\") & unemployment_rate_raw$time_as_date <= as.Date(\"2024-04-01\"), ]\n",
    "\n",
    "# Keep only the relevant columns\n",
    "columns_to_keep <- c(\"time_as_date\", \"time_as_numeric\", \"unemployment_rate\")\n",
    "unemployment_rate_filtered <- unemployment_rate_raw[, columns_to_keep]\n",
    "\n",
    "# Check\n",
    "glimpse(unemployment_rate_filtered)\n",
    "sum(is.na(unemployment_rate_filtered))"
   ]
  },
  {
   "cell_type": "markdown",
   "metadata": {},
   "source": [
    "# Part 3: Clean Consumer Price Index"
   ]
  },
  {
   "cell_type": "code",
   "execution_count": 10,
   "metadata": {
    "vscode": {
     "languageId": "r"
    }
   },
   "outputs": [
    {
     "name": "stdout",
     "output_type": "stream",
     "text": [
      "Rows: 161\n",
      "Columns: 3\n",
      "$ time_as_date       \u001b[3m\u001b[90m<date>\u001b[39m\u001b[23m 1984-01-01, 1984-04-01, 1984-07-01, 1984-10-01, 19…\n",
      "$ time_as_numeric    \u001b[3m\u001b[90m<dbl>\u001b[39m\u001b[23m 5113, 5204, 5295, 5387, 5479, 5569, 5660, 5752, 584…\n",
      "$ ConsumerPriceIndex \u001b[3m\u001b[90m<dbl>\u001b[39m\u001b[23m 1.1202636, 1.0752688, 1.0960671, 0.7334184, 0.63311…\n"
     ]
    },
    {
     "data": {
      "text/html": [
       "0"
      ],
      "text/latex": [
       "0"
      ],
      "text/markdown": [
       "0"
      ],
      "text/plain": [
       "[1] 0"
      ]
     },
     "metadata": {},
     "output_type": "display_data"
    }
   ],
   "source": [
    "# Source: https://fred.stlouisfed.org/series/CPALTT01USM657N#0\n",
    "CPI_raw <- read.csv(\"/workspaces/DUKE_IDS789_Final_Project/10_Datasets/consumer_price_index.csv\")\n",
    "\n",
    "# Convert ConsumerPriceIndex into a numeric column\n",
    "CPI_raw$ConsumerPriceIndex <- as.numeric(as.character(CPI_raw$CPALTT01USQ657N))\n",
    "\n",
    "# Convert DATE column to a Date format\n",
    "CPI_raw$DATE <- as.character(CPI_raw$DATE)\n",
    "CPI_raw$time_as_date <- as.Date(CPI_raw$DATE, format = \"%Y-%m-%d\")\n",
    "\n",
    "# Convert time_as_date to numeric for modeling purposes\n",
    "CPI_raw$time_as_numeric <- as.numeric(CPI_raw$time_as_date)\n",
    "\n",
    "# Filter data to include only rows between 1984-01-01 and 2024-04-01\n",
    "CPI_raw <- CPI_raw[CPI_raw$time_as_date >= as.Date(\"1984-01-01\") & \n",
    "                     CPI_raw$time_as_date <= as.Date(\"2024-04-01\"), ]\n",
    "\n",
    "# Keep only the relevant columns\n",
    "columns_to_keep <- c(\"time_as_date\", \"time_as_numeric\", \"ConsumerPriceIndex\")\n",
    "CPI_filtered <- CPI_raw[, columns_to_keep]\n",
    "\n",
    "\n",
    "# Check the updated dataset\n",
    "glimpse(CPI_filtered)\n",
    "sum(is.na(CPI_filtered))"
   ]
  },
  {
   "cell_type": "markdown",
   "metadata": {},
   "source": [
    "# Part 4: Disposable Personal Income"
   ]
  },
  {
   "cell_type": "code",
   "execution_count": 11,
   "metadata": {
    "vscode": {
     "languageId": "r"
    }
   },
   "outputs": [
    {
     "name": "stdout",
     "output_type": "stream",
     "text": [
      "Rows: 260\n",
      "Columns: 2\n",
      "$ DATE     \u001b[3m\u001b[90m<chr>\u001b[39m\u001b[23m \"1960-01-01\", \"1960-04-01\", \"1960-07-01\", \"1960-10-01\", \"1961…\n",
      "$ DSPI_PC1 \u001b[3m\u001b[90m<chr>\u001b[39m\u001b[23m \"5.13401\", \"4.26418\", \"4.34502\", \"3.47304\", \"3.31239\", \"3.646…\n"
     ]
    },
    {
     "name": "stderr",
     "output_type": "stream",
     "text": [
      "Warning message:\n",
      "“NAs introduced by coercion”\n"
     ]
    },
    {
     "name": "stdout",
     "output_type": "stream",
     "text": [
      "Rows: 162\n",
      "Columns: 3\n",
      "$ time_as_date             \u001b[3m\u001b[90m<date>\u001b[39m\u001b[23m 1984-01-01, 1984-04-01, 1984-07-01, 1984-10-…\n",
      "$ time_as_numeric          \u001b[3m\u001b[90m<dbl>\u001b[39m\u001b[23m 5113, 5204, 5295, 5387, 5479, 5569, 5660, 575…\n",
      "$ DisposablePersonalIncome \u001b[3m\u001b[90m<dbl>\u001b[39m\u001b[23m 10729270000, 11779660000, 10982020000, 947008…\n"
     ]
    },
    {
     "data": {
      "text/html": [
       "0"
      ],
      "text/latex": [
       "0"
      ],
      "text/markdown": [
       "0"
      ],
      "text/plain": [
       "[1] 0"
      ]
     },
     "metadata": {},
     "output_type": "display_data"
    }
   ],
   "source": [
    "disposable_income_raw <- read.csv(\"/workspaces/DUKE_IDS789_Final_Project/10_Datasets/disposable_personal_income.csv\")\n",
    "glimpse(disposable_income_raw)\n",
    "# https://fred.stlouisfed.org/series/DSPI\n",
    "\n",
    "# Creating new column for disposable personal income\n",
    "disposable_income_raw$DisposablePersonalIncome <- disposable_income_raw$DSPI_PC1\n",
    "\n",
    "# Making column disposable personal income numeric\n",
    "disposable_income_raw$DisposablePersonalIncome <- as.numeric(as.character(disposable_income_raw$DSPI_PC1))\n",
    "\n",
    "# Converting dis income into true unites it is in trillions so multiply by billions\n",
    "disposable_income_raw$DisposablePersonalIncome <- disposable_income_raw$DisposablePersonalIncome * 1000000000\n",
    "\n",
    "# Time as a date\n",
    "disposable_income_raw$DATE <- as.character(disposable_income_raw$DATE)\n",
    "disposable_income_raw$time_as_date <- as.Date(disposable_income_raw$DATE, format = \"%Y-%m-%d\")\n",
    "\n",
    "# Time as numeric (used in certain regression models or methods)\n",
    "disposable_income_raw$time_as_numeric <- as.numeric(disposable_income_raw$time_as_date)\n",
    "\n",
    "# Filter data between 1984-01-01 and 2024-04-01\n",
    "disposable_income_raw <- disposable_income_raw[disposable_income_raw$time_as_date >= as.Date(\"1984-01-01\") & disposable_income_raw$time_as_date <= as.Date(\"2024-04-01\"), ]\n",
    "\n",
    "# Keep only the relevant columns\n",
    "columns_to_keep <- c(\"time_as_date\", \"time_as_numeric\", \"DisposablePersonalIncome\")\n",
    "disposable_income_filtered <- disposable_income_raw[, columns_to_keep]\n",
    "\n",
    "# Check\n",
    "glimpse(disposable_income_filtered)\n",
    "sum(is.na(disposable_income_filtered))"
   ]
  },
  {
   "cell_type": "markdown",
   "metadata": {},
   "source": [
    "# Part 5: Cleaing 10 Year Treasury Yield"
   ]
  },
  {
   "cell_type": "code",
   "execution_count": 12,
   "metadata": {
    "vscode": {
     "languageId": "r"
    }
   },
   "outputs": [
    {
     "name": "stdout",
     "output_type": "stream",
     "text": [
      "Rows: 162\n",
      "Columns: 3\n",
      "$ time_as_date    \u001b[3m\u001b[90m<date>\u001b[39m\u001b[23m 1984-01-01, 1984-04-01, 1984-07-01, 1984-10-01, 1985-…\n",
      "$ time_as_numeric \u001b[3m\u001b[90m<dbl>\u001b[39m\u001b[23m 5113, 5204, 5295, 5387, 5479, 5569, 5660, 5752, 5844, …\n",
      "$ Yield           \u001b[3m\u001b[90m<dbl>\u001b[39m\u001b[23m 0.11943333, 0.13200000, 0.12866667, 0.11743333, 0.1158…\n"
     ]
    },
    {
     "data": {
      "text/html": [
       "0"
      ],
      "text/latex": [
       "0"
      ],
      "text/markdown": [
       "0"
      ],
      "text/plain": [
       "[1] 0"
      ]
     },
     "metadata": {},
     "output_type": "display_data"
    }
   ],
   "source": [
    "treasury_yield_raw <- read.csv(\"/workspaces/DUKE_IDS789_Final_Project/10_Datasets/10_year_treasury_yield.csv\")\n",
    "\n",
    "# Creating new column for yield\n",
    "treasury_yield_raw$Yield <- treasury_yield_raw$IRLTLT01USQ156N\n",
    "\n",
    "# Making column yield numeric\n",
    "treasury_yield_raw$Yield <- as.numeric(as.character(treasury_yield_raw$IRLTLT01USQ156N))\n",
    "\n",
    "# Converting dis income into true unites by making it a decimal\n",
    "treasury_yield_raw$Yield <- treasury_yield_raw$Yield / 100\n",
    "\n",
    "# Time as a date\n",
    "treasury_yield_raw$DATE <- as.character(treasury_yield_raw$DATE)\n",
    "treasury_yield_raw$time_as_date <- as.Date(treasury_yield_raw$DATE, format = \"%Y-%m-%d\")\n",
    "\n",
    "# Time as numeric (used in certain regression models or methods)\n",
    "treasury_yield_raw$time_as_numeric <- as.numeric(treasury_yield_raw$time_as_date)\n",
    "\n",
    "# Filter data between 1984-01-01 and 2024-04-01\n",
    "treasury_yield_raw <- treasury_yield_raw[treasury_yield_raw$time_as_date >= as.Date(\"1984-01-01\") & treasury_yield_raw$time_as_date <= as.Date(\"2024-04-01\"), ]\n",
    "\n",
    "# Keep only the relevant columns\n",
    "columns_to_keep <- c(\"time_as_date\", \"time_as_numeric\", \"Yield\")\n",
    "treasury_yield_filtered <- treasury_yield_raw[, columns_to_keep]\n",
    "\n",
    "# Check\n",
    "glimpse(treasury_yield_filtered)\n",
    "sum(is.na(treasury_yield_filtered))"
   ]
  },
  {
   "cell_type": "markdown",
   "metadata": {},
   "source": [
    "# Part 6: Clean Fed Funds Rate Data"
   ]
  },
  {
   "cell_type": "code",
   "execution_count": 13,
   "metadata": {
    "vscode": {
     "languageId": "r"
    }
   },
   "outputs": [
    {
     "name": "stderr",
     "output_type": "stream",
     "text": [
      "Warning message:\n",
      "“NAs introduced by coercion”\n"
     ]
    },
    {
     "name": "stdout",
     "output_type": "stream",
     "text": [
      "Rows: 162\n",
      "Columns: 3\n",
      "$ time_as_date    \u001b[3m\u001b[90m<date>\u001b[39m\u001b[23m 1984-01-01, 1984-04-01, 1984-07-01, 1984-10-01, 1985-…\n",
      "$ time_as_numeric \u001b[3m\u001b[90m<dbl>\u001b[39m\u001b[23m 5113, 5204, 5295, 5387, 5479, 5569, 5660, 5752, 5844, …\n",
      "$ fed_rate        \u001b[3m\u001b[90m<dbl>\u001b[39m\u001b[23m 0.09686667, 0.10556667, 0.11390000, 0.09266667, 0.0847…\n"
     ]
    },
    {
     "data": {
      "text/html": [
       "0"
      ],
      "text/latex": [
       "0"
      ],
      "text/markdown": [
       "0"
      ],
      "text/plain": [
       "[1] 0"
      ]
     },
     "metadata": {},
     "output_type": "display_data"
    }
   ],
   "source": [
    "fed_rate_raw <- read.csv(\"/workspaces/DUKE_IDS789_Final_Project/10_Datasets/fed_funds_rate.csv\")\n",
    "\n",
    "# https://fred.stlouisfed.org/series/FEDFUNDS\n",
    "\n",
    "# Creating new column for yield\n",
    "fed_rate_raw$fed_rate <- fed_rate_raw$FEDFUNDS\n",
    "\n",
    "# Making column yield numeric\n",
    "fed_rate_raw$fed_rate <- as.numeric(as.character(fed_rate_raw$FEDFUNDS))\n",
    "\n",
    "# Converting rate into true unites by making it a decimal\n",
    "fed_rate_raw$fed_rate <- fed_rate_raw$fed_rate / 100\n",
    "\n",
    "# Time as a date\n",
    "fed_rate_raw$DATE <- as.character(fed_rate_raw$DATE)\n",
    "fed_rate_raw$time_as_date <- as.Date(fed_rate_raw$DATE, format = \"%Y-%m-%d\")\n",
    "\n",
    "# Time as numeric (used in certain regression models or methods)\n",
    "fed_rate_raw$time_as_numeric <- as.numeric(fed_rate_raw$time_as_date)\n",
    "\n",
    "# Filter data between 1984-01-01 and 2024-04-01\n",
    "fed_rate_raw <- fed_rate_raw[fed_rate_raw$time_as_date >= as.Date(\"1984-01-01\") & fed_rate_raw$time_as_date <= as.Date(\"2024-04-01\"), ]\n",
    "\n",
    "# Keep only the relevant columns\n",
    "columns_to_keep <- c(\"time_as_date\", \"time_as_numeric\", \"fed_rate\")\n",
    "fed_rate_filtered <- fed_rate_raw[, columns_to_keep]\n",
    "\n",
    "# Check\n",
    "glimpse(fed_rate_filtered)\n",
    "sum(is.na(fed_rate_filtered))"
   ]
  },
  {
   "cell_type": "markdown",
   "metadata": {},
   "source": [
    "# Part 7: Clean GDP Data"
   ]
  },
  {
   "cell_type": "code",
   "execution_count": 14,
   "metadata": {
    "vscode": {
     "languageId": "r"
    }
   },
   "outputs": [
    {
     "name": "stdout",
     "output_type": "stream",
     "text": [
      "Rows: 162\n",
      "Columns: 4\n",
      "$ time_as_date    \u001b[3m\u001b[90m<date>\u001b[39m\u001b[23m 1984-01-01, 1984-04-01, 1984-07-01, 1984-10-01, 1985-…\n",
      "$ time_as_numeric \u001b[3m\u001b[90m<dbl>\u001b[39m\u001b[23m 5113, 5204, 5295, 5387, 5479, 5569, 5660, 5752, 5844, …\n",
      "$ GDP             \u001b[3m\u001b[90m<dbl>\u001b[39m\u001b[23m 3.908054e+12, 4.009601e+12, 4.084250e+12, 4.148551e+12…\n",
      "$ GDP_growth_rate \u001b[3m\u001b[90m<dbl>\u001b[39m\u001b[23m NA, 0.025984032, 0.018617563, 0.015743649, 0.019673616…\n"
     ]
    },
    {
     "data": {
      "text/html": [
       "1"
      ],
      "text/latex": [
       "1"
      ],
      "text/markdown": [
       "1"
      ],
      "text/plain": [
       "[1] 1"
      ]
     },
     "metadata": {},
     "output_type": "display_data"
    }
   ],
   "source": [
    "# https://fred.stlouisfed.org/series/GDP\n",
    "GDP_raw <- read.csv(\"/workspaces/DUKE_IDS789_Final_Project/10_Datasets/GDP.csv\")\n",
    "\n",
    "# Making column GDP numeric\n",
    "GDP_raw$GDP <- as.numeric(as.character(GDP_raw$GDP))\n",
    "\n",
    "# Converting dis income into true unites by making it a decimal\n",
    "GDP_raw$GDP <- GDP_raw$GDP * 1000000000\n",
    "\n",
    "# Time as a date\n",
    "GDP_raw$DATE <- as.character(GDP_raw$DATE)\n",
    "GDP_raw$time_as_date <- as.Date(GDP_raw$DATE, format = \"%Y-%m-%d\")\n",
    "\n",
    "# Time as numeric (used in certain regression models or methods)\n",
    "GDP_raw$time_as_numeric <- as.numeric(GDP_raw$time_as_date)\n",
    "\n",
    "# Filter data between 1984-01-01 and 2024-04-01\n",
    "GDP_raw <- GDP_raw[GDP_raw$time_as_date >= as.Date(\"1984-01-01\") & GDP_raw$time_as_date <= as.Date(\"2024-04-01\"), ]\n",
    "\n",
    "# Keep only the relevant columns\n",
    "columns_to_keep <- c(\"time_as_date\", \"time_as_numeric\", \"GDP\")\n",
    "GDP_filtered <- GDP_raw[, columns_to_keep]\n",
    "\n",
    "# Add GDP growth rate column\n",
    "GDP_filtered <- GDP_filtered %>%\n",
    "  mutate(\n",
    "    GDP_growth_rate = (GDP - lag(GDP)) / lag(GDP)\n",
    "  )\n",
    "\n",
    "# View the result\n",
    "glimpse(GDP_filtered)\n",
    "sum(is.na(GDP_filtered))"
   ]
  },
  {
   "cell_type": "markdown",
   "metadata": {},
   "source": [
    "# Part 8: Clean Loan Data"
   ]
  },
  {
   "cell_type": "code",
   "execution_count": 15,
   "metadata": {
    "vscode": {
     "languageId": "r"
    }
   },
   "outputs": [
    {
     "name": "stderr",
     "output_type": "stream",
     "text": [
      "Warning message:\n",
      "“NAs introduced by coercion”\n"
     ]
    },
    {
     "name": "stdout",
     "output_type": "stream",
     "text": [
      "Rows: 162\n",
      "Columns: 3\n",
      "$ time_as_date    \u001b[3m\u001b[90m<date>\u001b[39m\u001b[23m 1984-01-01, 1984-04-01, 1984-07-01, 1984-10-01, 1985-…\n",
      "$ time_as_numeric \u001b[3m\u001b[90m<dbl>\u001b[39m\u001b[23m 5113, 5204, 5295, 5387, 5479, 5569, 5660, 5752, 5844, …\n",
      "$ loan            \u001b[3m\u001b[90m<dbl>\u001b[39m\u001b[23m 422715769231, 444453800000, 458430284615, 469857400000…\n"
     ]
    },
    {
     "data": {
      "text/html": [
       "0"
      ],
      "text/latex": [
       "0"
      ],
      "text/markdown": [
       "0"
      ],
      "text/plain": [
       "[1] 0"
      ]
     },
     "metadata": {},
     "output_type": "display_data"
    }
   ],
   "source": [
    "# https://fred.stlouisfed.org/series/TOTCI\n",
    "loan_raw <- read.csv(\"/workspaces/DUKE_IDS789_Final_Project/10_Datasets/Loans.csv\")\n",
    "\n",
    "\n",
    "# Making column loan numeric\n",
    "loan_raw$loan <- as.numeric(as.character(loan_raw$TOTCI))\n",
    "\n",
    "# Converting this loan into billions \n",
    "loan_raw$loan <- loan_raw$loan * 1000000000\n",
    "\n",
    "# Time as a date\n",
    "loan_raw$DATE <- as.character(loan_raw$DATE)\n",
    "loan_raw$time_as_date <- as.Date(loan_raw$DATE, format = \"%Y-%m-%d\")\n",
    "\n",
    "# Time as numeric (used in certain regression models or methods)\n",
    "loan_raw$time_as_numeric <- as.numeric(loan_raw$time_as_date)\n",
    "\n",
    "# Filter data between 1984-01-01 and 2024-04-01\n",
    "loan_raw <- loan_raw[loan_raw$time_as_date >= as.Date(\"1984-01-01\") & loan_raw$time_as_date <= as.Date(\"2024-04-01\"), ]\n",
    "\n",
    "# Keep only the relevant columns\n",
    "columns_to_keep <- c(\"time_as_date\", \"time_as_numeric\", \"loan\")\n",
    "loan_filtered <- loan_raw[, columns_to_keep]\n",
    "\n",
    "# Check\n",
    "glimpse(loan_filtered)\n",
    "sum(is.na(loan_filtered))"
   ]
  },
  {
   "cell_type": "markdown",
   "metadata": {},
   "source": [
    "# Part 9: Clean Money Supply Data"
   ]
  },
  {
   "cell_type": "code",
   "execution_count": 16,
   "metadata": {
    "vscode": {
     "languageId": "r"
    }
   },
   "outputs": [
    {
     "name": "stderr",
     "output_type": "stream",
     "text": [
      "Warning message:\n",
      "“NAs introduced by coercion”\n"
     ]
    },
    {
     "name": "stdout",
     "output_type": "stream",
     "text": [
      "Rows: 160\n",
      "Columns: 3\n",
      "$ time_as_date    \u001b[3m\u001b[90m<date>\u001b[39m\u001b[23m 1984-01-01, 1984-04-01, 1984-07-01, 1984-10-01, 1985-…\n",
      "$ time_as_numeric \u001b[3m\u001b[90m<dbl>\u001b[39m\u001b[23m 5113, 5204, 5295, 5387, 5479, 5569, 5660, 5752, 5844, …\n",
      "$ money_supply    \u001b[3m\u001b[90m<dbl>\u001b[39m\u001b[23m 2.157200e+12, 2.203633e+12, 2.232767e+12, 2.282233e+12…\n"
     ]
    },
    {
     "data": {
      "text/html": [
       "1"
      ],
      "text/latex": [
       "1"
      ],
      "text/markdown": [
       "1"
      ],
      "text/plain": [
       "[1] 1"
      ]
     },
     "metadata": {},
     "output_type": "display_data"
    }
   ],
   "source": [
    "# Source: https://fred.stlouisfed.org/series/MABMM301USM189S#0\n",
    "money_supply_raw <- read.csv(\"/workspaces/DUKE_IDS789_Final_Project/10_Datasets/money_supply.csv\")\n",
    "\n",
    "# Making column money supply numeric\n",
    "money_supply_raw$money_supply <- as.numeric(as.character(money_supply_raw$MABMM301USM189S))\n",
    "\n",
    "# Time as a date\n",
    "money_supply_raw$DATE <- as.character(money_supply_raw$DATE)\n",
    "money_supply_raw$time_as_date <- as.Date(money_supply_raw$DATE, format = \"%Y-%m-%d\")\n",
    "\n",
    "# Time as numeric (used in certain regression models or methods)\n",
    "money_supply_raw$time_as_numeric <- as.numeric(money_supply_raw$time_as_date)\n",
    "\n",
    "# Filter data between 1984-01-01 and 2024-04-01\n",
    "money_supply_raw <- money_supply_raw[money_supply_raw$time_as_date >= as.Date(\"1984-01-01\") & money_supply_raw$time_as_date <= as.Date(\"2024-04-01\"), ]\n",
    "\n",
    "# Keep only the relevant columns\n",
    "columns_to_keep <- c(\"time_as_date\", \"time_as_numeric\", \"money_supply\")\n",
    "money_supply_filtered <- money_supply_raw[, columns_to_keep]\n",
    "\n",
    "# Check\n",
    "glimpse(money_supply_filtered)\n",
    "sum(is.na(money_supply_filtered))"
   ]
  },
  {
   "cell_type": "markdown",
   "metadata": {},
   "source": [
    "# Part 10: Clean Reserves of Depository"
   ]
  },
  {
   "cell_type": "code",
   "execution_count": 17,
   "metadata": {
    "vscode": {
     "languageId": "r"
    }
   },
   "outputs": [
    {
     "name": "stderr",
     "output_type": "stream",
     "text": [
      "Warning message:\n",
      "“NAs introduced by coercion”\n"
     ]
    },
    {
     "name": "stdout",
     "output_type": "stream",
     "text": [
      "Rows: 162\n",
      "Columns: 3\n",
      "$ time_as_date    \u001b[3m\u001b[90m<date>\u001b[39m\u001b[23m 1984-01-01, 1984-04-01, 1984-07-01, 1984-10-01, 1985-…\n",
      "$ time_as_numeric \u001b[3m\u001b[90m<dbl>\u001b[39m\u001b[23m 5113, 5204, 5295, 5387, 5479, 5569, 5660, 5752, 5844, …\n",
      "$ deposit_reserve \u001b[3m\u001b[90m<dbl>\u001b[39m\u001b[23m 37533333333, 37033333333, 37600000000, 39466666667, 40…\n"
     ]
    },
    {
     "data": {
      "text/html": [
       "0"
      ],
      "text/latex": [
       "0"
      ],
      "text/markdown": [
       "0"
      ],
      "text/plain": [
       "[1] 0"
      ]
     },
     "metadata": {},
     "output_type": "display_data"
    }
   ],
   "source": [
    "# Source: https://fred.stlouisfed.org/series/TOTRESNS#0\n",
    "depository_reserve_raw <- read.csv(\"/workspaces/DUKE_IDS789_Final_Project/10_Datasets/reserves_deposit.csv\")\n",
    "\n",
    "# Making column loan numeric\n",
    "depository_reserve_raw$deposit_reserve<- as.numeric(as.character(depository_reserve_raw$TOTRESNS))\n",
    "\n",
    "# Converting this loan into billions \n",
    "depository_reserve_raw$deposit_reserve <- depository_reserve_raw$deposit_reserve * 1000000000\n",
    "\n",
    "# Time as a date\n",
    "depository_reserve_raw$DATE <- as.character(depository_reserve_raw$DATE)\n",
    "depository_reserve_raw$time_as_date <- as.Date(depository_reserve_raw$DATE, format = \"%Y-%m-%d\")\n",
    "\n",
    "# Time as numeric (used in certain regression models or methods)\n",
    "depository_reserve_raw$time_as_numeric <- as.numeric(depository_reserve_raw$time_as_date)\n",
    "\n",
    "# Filter data between 1984-01-01 and 2024-04-01\n",
    "depository_reserve_raw <- depository_reserve_raw[depository_reserve_raw$time_as_date >= as.Date(\"1984-01-01\") & depository_reserve_raw$time_as_date <= as.Date(\"2024-04-01\"), ]\n",
    "\n",
    "# Keep only the relevant columns\n",
    "columns_to_keep <- c(\"time_as_date\", \"time_as_numeric\", \"deposit_reserve\")\n",
    "depository_reserve_filtered <- depository_reserve_raw[, columns_to_keep]\n",
    "\n",
    "# Check\n",
    "glimpse(depository_reserve_filtered)\n",
    "sum(is.na(depository_reserve_filtered))"
   ]
  },
  {
   "cell_type": "markdown",
   "metadata": {},
   "source": [
    "# Part 11: Consumer Sentimnent Index"
   ]
  },
  {
   "cell_type": "code",
   "execution_count": 18,
   "metadata": {
    "vscode": {
     "languageId": "r"
    }
   },
   "outputs": [
    {
     "name": "stderr",
     "output_type": "stream",
     "text": [
      "Warning message:\n",
      "“NAs introduced by coercion”\n"
     ]
    },
    {
     "name": "stdout",
     "output_type": "stream",
     "text": [
      "Rows: 162\n",
      "Columns: 3\n",
      "$ time_as_date       \u001b[3m\u001b[90m<date>\u001b[39m\u001b[23m 1984-01-01, 1984-04-01, 1984-07-01, 1984-10-01, 19…\n",
      "$ time_as_numeric    \u001b[3m\u001b[90m<dbl>\u001b[39m\u001b[23m 5113, 5204, 5295, 5387, 5479, 5569, 5660, 5752, 584…\n",
      "$ consumer_sentiment \u001b[3m\u001b[90m<dbl>\u001b[39m\u001b[23m 99.50000, 96.56667, 98.86667, 94.96667, 94.46667, 9…\n"
     ]
    },
    {
     "data": {
      "text/html": [
       "0"
      ],
      "text/latex": [
       "0"
      ],
      "text/markdown": [
       "0"
      ],
      "text/plain": [
       "[1] 0"
      ]
     },
     "metadata": {},
     "output_type": "display_data"
    }
   ],
   "source": [
    "# Source: https://fred.stlouisfed.org/series/UMCSENT#0\n",
    "consumer_sentiment_raw <- read.csv(\"/workspaces/DUKE_IDS789_Final_Project/10_Datasets/consumer_sentiment_index.csv\")\n",
    "\n",
    "# Making column loan numeric\n",
    "consumer_sentiment_raw$consumer_sentiment<- as.numeric(as.character(consumer_sentiment_raw$UMCSENT))\n",
    "\n",
    "# Time as a date\n",
    "consumer_sentiment_raw$DATE <- as.character(consumer_sentiment_raw$DATE)\n",
    "consumer_sentiment_raw$time_as_date <- as.Date(consumer_sentiment_raw$DATE, format = \"%Y-%m-%d\")\n",
    "\n",
    "# Time as numeric (used in certain regression models or methods)\n",
    "consumer_sentiment_raw$time_as_numeric <- as.numeric(consumer_sentiment_raw$time_as_date)\n",
    "\n",
    "# Filter data between 1984-01-01 and 2024-04-01\n",
    "consumer_sentiment_raw <- consumer_sentiment_raw[consumer_sentiment_raw$time_as_date >= as.Date(\"1984-01-01\") & consumer_sentiment_raw$time_as_date <= as.Date(\"2024-04-01\"), ]\n",
    "\n",
    "# Keep only the relevant columns\n",
    "columns_to_keep <- c(\"time_as_date\", \"time_as_numeric\", \"consumer_sentiment\")\n",
    "consumer_sentiment_filtered <- consumer_sentiment_raw[, columns_to_keep]\n",
    "\n",
    "# Check\n",
    "glimpse(consumer_sentiment_filtered)\n",
    "sum(is.na(consumer_sentiment_filtered))"
   ]
  },
  {
   "cell_type": "markdown",
   "metadata": {},
   "source": [
    "# Part 12: Clean Homeownership Rate"
   ]
  },
  {
   "cell_type": "code",
   "execution_count": 19,
   "metadata": {
    "vscode": {
     "languageId": "r"
    }
   },
   "outputs": [
    {
     "name": "stdout",
     "output_type": "stream",
     "text": [
      "Rows: 162\n",
      "Columns: 3\n",
      "$ time_as_date       \u001b[3m\u001b[90m<date>\u001b[39m\u001b[23m 1984-01-01, 1984-04-01, 1984-07-01, 1984-10-01, 19…\n",
      "$ time_as_numeric    \u001b[3m\u001b[90m<dbl>\u001b[39m\u001b[23m 5113, 5204, 5295, 5387, 5479, 5569, 5660, 5752, 584…\n",
      "$ homeownership_rate \u001b[3m\u001b[90m<dbl>\u001b[39m\u001b[23m 0.646, 0.646, 0.646, 0.641, 0.641, 0.641, 0.639, 0.…\n"
     ]
    },
    {
     "data": {
      "text/html": [
       "0"
      ],
      "text/latex": [
       "0"
      ],
      "text/markdown": [
       "0"
      ],
      "text/plain": [
       "[1] 0"
      ]
     },
     "metadata": {},
     "output_type": "display_data"
    }
   ],
   "source": [
    "# Source: https://fred.stlouisfed.org/series/RHORUSQ156N#0\n",
    "homeownership_raw <- read.csv(\"/workspaces/DUKE_IDS789_Final_Project/10_Datasets/homeownership_rate.csv\")\n",
    "\n",
    "# Making column loan numeric\n",
    "homeownership_raw$homeownership_rate<- as.numeric(as.character(homeownership_raw$RHORUSQ156N))\n",
    "\n",
    "# Converting rate into true unites by making it a decimal\n",
    "homeownership_raw$homeownership_rate <- homeownership_raw$homeownership_rate / 100\n",
    "\n",
    "# Time as a date\n",
    "homeownership_raw$DATE <- as.character(homeownership_raw$DATE)\n",
    "homeownership_raw$time_as_date <- as.Date(homeownership_raw$DATE, format = \"%Y-%m-%d\")\n",
    "\n",
    "# Time as numeric (used in certain regression models or methods)\n",
    "homeownership_raw$time_as_numeric <- as.numeric(homeownership_raw$time_as_date)\n",
    "\n",
    "# Filter data between 1984-01-01 and 2024-04-01\n",
    "homeownership_raw <- homeownership_raw[homeownership_raw$time_as_date >= as.Date(\"1984-01-01\") & homeownership_raw$time_as_date <= as.Date(\"2024-04-01\"), ]\n",
    "\n",
    "# Keep only the relevant columns\n",
    "columns_to_keep <- c(\"time_as_date\", \"time_as_numeric\", \"homeownership_rate\")\n",
    "homeownership_filtered <- homeownership_raw[, columns_to_keep]\n",
    "\n",
    "# Check\n",
    "glimpse(homeownership_filtered)\n",
    "sum(is.na(homeownership_filtered))"
   ]
  },
  {
   "cell_type": "markdown",
   "metadata": {},
   "source": [
    "# Part 13: Clean CBOE Volatility Index VIX"
   ]
  },
  {
   "cell_type": "code",
   "execution_count": 20,
   "metadata": {
    "vscode": {
     "languageId": "r"
    }
   },
   "outputs": [
    {
     "name": "stderr",
     "output_type": "stream",
     "text": [
      "Warning message:\n",
      "“NAs introduced by coercion”\n"
     ]
    },
    {
     "name": "stdout",
     "output_type": "stream",
     "text": [
      "Rows: 138\n",
      "Columns: 3\n",
      "$ time_as_date    \u001b[3m\u001b[90m<date>\u001b[39m\u001b[23m 1990-01-01, 1990-04-01, 1990-07-01, 1990-10-01, 1991-…\n",
      "$ time_as_numeric \u001b[3m\u001b[90m<dbl>\u001b[39m\u001b[23m 7305, 7395, 7486, 7578, 7670, 7760, 7851, 7943, 8035, …\n",
      "$ vix_index       \u001b[3m\u001b[90m<dbl>\u001b[39m\u001b[23m 22.17460, 18.72206, 25.19556, 26.11328, 22.51583, 17.1…\n"
     ]
    },
    {
     "data": {
      "text/html": [
       "0"
      ],
      "text/latex": [
       "0"
      ],
      "text/markdown": [
       "0"
      ],
      "text/plain": [
       "[1] 0"
      ]
     },
     "metadata": {},
     "output_type": "display_data"
    }
   ],
   "source": [
    "vix_raw <- read.csv(\"/workspaces/DUKE_IDS789_Final_Project/10_Datasets/VIX.csv\")\n",
    "\n",
    "# Making column loan numeric\n",
    "vix_raw$vix_index<- as.numeric(as.character(vix_raw$VIXCLS))\n",
    "\n",
    "# Time as a date\n",
    "vix_raw$DATE <- as.character(vix_raw$DATE)\n",
    "vix_raw$time_as_date <- as.Date(vix_raw$DATE, format = \"%Y-%m-%d\")\n",
    "\n",
    "# Time as numeric (used in certain regression models or methods)\n",
    "vix_raw$time_as_numeric <- as.numeric(vix_raw$time_as_date)\n",
    "\n",
    "# Filter data between 1984-01-01 and 2024-04-01\n",
    "vix_raw <- vix_raw[vix_raw$time_as_date >= as.Date(\"1984-01-01\") & vix_raw$time_as_date <= as.Date(\"2024-04-01\"), ]\n",
    "\n",
    "# Keep only the relevant columns\n",
    "columns_to_keep <- c(\"time_as_date\", \"time_as_numeric\", \"vix_index\")\n",
    "vix_filtered <- vix_raw[, columns_to_keep]\n",
    "\n",
    "# Check\n",
    "glimpse(vix_filtered)\n",
    "sum(is.na(vix_filtered))"
   ]
  },
  {
   "cell_type": "markdown",
   "metadata": {},
   "source": [
    "# Part 14: NASDAQ Composite Index"
   ]
  },
  {
   "cell_type": "code",
   "execution_count": 21,
   "metadata": {
    "vscode": {
     "languageId": "r"
    }
   },
   "outputs": [
    {
     "name": "stderr",
     "output_type": "stream",
     "text": [
      "Warning message:\n",
      "“NAs introduced by coercion”\n"
     ]
    },
    {
     "name": "stdout",
     "output_type": "stream",
     "text": [
      "Rows: 162\n",
      "Columns: 3\n",
      "$ time_as_date    \u001b[3m\u001b[90m<date>\u001b[39m\u001b[23m 1984-01-01, 1984-04-01, 1984-07-01, 1984-10-01, 1985-…\n",
      "$ time_as_numeric \u001b[3m\u001b[90m<dbl>\u001b[39m\u001b[23m 5113, 5204, 5295, 5387, 5479, 5569, 5660, 5752, 5844, …\n",
      "$ NASDAQ_index    \u001b[3m\u001b[90m<dbl>\u001b[39m\u001b[23m 262.4971, 242.9894, 244.8656, 245.2678, 275.1484, 286.…\n"
     ]
    },
    {
     "data": {
      "text/html": [
       "0"
      ],
      "text/latex": [
       "0"
      ],
      "text/markdown": [
       "0"
      ],
      "text/plain": [
       "[1] 0"
      ]
     },
     "metadata": {},
     "output_type": "display_data"
    }
   ],
   "source": [
    "# Source: https://fred.stlouisfed.org/series/NASDAQCOM#0\n",
    "NASDAQ_raw <- read.csv(\"/workspaces/DUKE_IDS789_Final_Project/10_Datasets/NASDAQ.csv\n",
    "\n",
    "\n",
    "\n",
    "\n",
    "li\")\n",
    "\n",
    "# Making column index numeric\n",
    "NASDAQ_raw$NASDAQ_index<- as.numeric(as.character(NASDAQ_raw$NASDAQCOM))\n",
    "\n",
    "# Time as a date\n",
    "NASDAQ_raw$DATE <- as.character(NASDAQ_raw$DATE)\n",
    "NASDAQ_raw$time_as_date <- as.Date(NASDAQ_raw$DATE, format = \"%Y-%m-%d\")\n",
    "\n",
    "# Time as numeric (used in certain regression models or methods)\n",
    "NASDAQ_raw$time_as_numeric <- as.numeric(NASDAQ_raw$time_as_date)\n",
    "\n",
    "# Filter data between 1984-01-01 and 2024-04-01\n",
    "NASDAQ_raw <- NASDAQ_raw[NASDAQ_raw$time_as_date >= as.Date(\"1984-01-01\") & NASDAQ_raw$time_as_date <= as.Date(\"2024-04-01\"), ]\n",
    "\n",
    "# Keep only the relevant columns\n",
    "columns_to_keep <- c(\"time_as_date\", \"time_as_numeric\", \"NASDAQ_index\")\n",
    "NASDAQ_filtered <- NASDAQ_raw[, columns_to_keep]\n",
    "\n",
    "# Check\n",
    "glimpse(NASDAQ_filtered)\n",
    "sum(is.na(NASDAQ_filtered))"
   ]
  },
  {
   "cell_type": "markdown",
   "metadata": {},
   "source": [
    "# Part 15: Group all data into one dataframe"
   ]
  },
  {
   "cell_type": "code",
   "execution_count": 22,
   "metadata": {
    "vscode": {
     "languageId": "r"
    }
   },
   "outputs": [],
   "source": [
    "# Merge two datasets by the 'Date' column\n",
    "datasets_to_merge <- list(pop_filtered, unemployment_rate_filtered, CPI_filtered, disposable_income_filtered, treasury_yield_filtered, fed_rate_filtered, GDP_filtered)\n",
    "\n",
    "# Re-run the merge\n",
    "regressors_data <- Reduce(function(x, y) {\n",
    "  merge(x, y, by = c(\"time_as_date\", \"time_as_numeric\"), all = TRUE)\n",
    "}, datasets_to_merge)"
   ]
  },
  {
   "cell_type": "code",
   "execution_count": 23,
   "metadata": {
    "vscode": {
     "languageId": "r"
    }
   },
   "outputs": [],
   "source": [
    "saveRDS(regressors_data, \"regressors_data.rds\")  # Save the data to call it in other notebooks"
   ]
  }
 ],
 "metadata": {
  "kernelspec": {
   "display_name": "R",
   "language": "R",
   "name": "ir"
  },
  "language_info": {
   "codemirror_mode": "r",
   "file_extension": ".r",
   "mimetype": "text/x-r-source",
   "name": "R",
   "pygments_lexer": "r",
   "version": "4.4.2"
  }
 },
 "nbformat": 4,
 "nbformat_minor": 2
}
