{
 "cells": [
  {
   "cell_type": "code",
   "execution_count": null,
   "metadata": {
    "vscode": {
     "languageId": "r"
    }
   },
   "outputs": [],
   "source": [
    "# Load required libraries\n",
    "library(readxl)\n",
    "library(dplyr)"
   ]
  },
  {
   "cell_type": "markdown",
   "metadata": {},
   "source": [
    "### Loading and Cleaning"
   ]
  },
  {
   "cell_type": "code",
   "execution_count": null,
   "metadata": {
    "vscode": {
     "languageId": "r"
    }
   },
   "outputs": [],
   "source": [
    "FDIC_raw <- read_excel(\"/workspaces/DUKE_MIDS_QFC_Final_Project/dataset/Deposit_FDIC.xlsx\")\n",
    "\n",
    "# Remove the first 3 rows\n",
    "FDIC_raw <- FDIC_raw[-c(1:3), ]\n",
    "\n",
    "# Remove rows that are completely blank\n",
    "FDIC_raw <- FDIC_raw[rowSums(is.na(FDIC_raw) | FDIC_raw == \"\") < ncol(FDIC_raw), ]"
   ]
  },
  {
   "cell_type": "code",
   "execution_count": null,
   "metadata": {
    "vscode": {
     "languageId": "r"
    }
   },
   "outputs": [],
   "source": [
    "library(dplyr)\n",
    "\n",
    "# Extract the current variable names (first row) as a new column\n",
    "time <- as.character(FDIC_raw[1, ])\n",
    "time <- time[-1]\n",
    "\n",
    "# Set the entries in the first column as the new variable names\n",
    "row_names <- FDIC_raw[[1]]\n",
    "row_names <- row_names[-c(1, length(row_names))]\n",
    "\n",
    "# Remove the first row and the first column\n",
    "FDIC_data <- FDIC_raw[-1, -1]\n",
    "\n",
    "# Transpose the FDIC_raw\n",
    "FDIC_data <- t(FDIC_data)  # Corrected to transpose the reduced FDIC_raw frame, FDIC_data\n",
    "FDIC_data <- FDIC_data[, -91]\n",
    "FDIC_data <- as.data.frame(FDIC_data, stringsAsFactors = FALSE)\n",
    "\n",
    "# Define variable names\n",
    "colnames(FDIC_data) <- row_names\n",
    "\n",
    "# Add a columns showing period of time\n",
    "FDIC_data <- FDIC_data %>%\n",
    "  mutate(\n",
    "    time = time,\n",
    "    year = as.numeric(substr(time, 1, 4)),\n",
    "    quarter = as.numeric(substr(time, 6, 6))) %>%\n",
    "  select(time, year, quarter, everything())\n",
    "\n",
    "# Change variable names"
   ]
  },
  {
   "cell_type": "code",
   "execution_count": null,
   "metadata": {
    "vscode": {
     "languageId": "r"
    }
   },
   "outputs": [],
   "source": [
    "# Assuming the first three columns are already named correctly\n",
    "# Assign new variable names starting from the fourth column\n",
    "colnames(FDIC_data)[4:ncol(FDIC_data)] <- c(\"loans_re\", \"loans_res_mort\", \"loans_nonres\", \n",
    "                                    \"loans_constr\", \"loans_hel\", \"loans_multi\", \n",
    "                                    \"loans_farmland\", \"loans_foreign_re\", \"loans_com_ind\", \n",
    "                                    \"loans_indiv\", \"loans_cc\", \"loans_indiv_other\", \n",
    "                                    \"loans_auto\", \"loans_farm\", \"loans_dep\", \n",
    "                                    \"loans_foreign_gov\", \"obligations_US\", \"loans_other\", \n",
    "                                    \"accept_banks\", \"lease_receiv\", \"loans_leases_gross\", \n",
    "                                    \"unearned_income\", \"loans_leases\", \"reserve_losses\", \n",
    "                                    \"loans_leases_net\", \"securities\", \"sec_avail_sale\", \n",
    "                                    \"sec_held_mat\", \"sec_treasury\", \"sec_mtg_backed\", \n",
    "                                    \"sec_state_muni\", \"sec_equity\", \"cash_due_dep\", \n",
    "                                    \"fed_funds_sold\", \"bank_fixed_assets\", \"re_owned_other\", \n",
    "                                    \"trading_assets\", \"assets_intang\", \"mtg_serv_assets\", \n",
    "                                    \"fv_mtg_serv\", \"goodwill\", \"assets_other\", \n",
    "                                    \"liab_cap\", \"deposits\", \"deposits_foreign\", \n",
    "                                    \"deposits_domestic\", \"deposits_interest\", \n",
    "                                    \"deposits_noninterest\", \"deposits_insured\", \n",
    "                                    \"deposits_time\", \"deposits_brokered\", \n",
    "                                    \"fed_funds_purch\", \"fhlb_advances\", \"borrowed_other\", \n",
    "                                    \"bank_accept_liab\", \"debt_subord\", \"trading_liab\", \n",
    "                                    \"liab_other\", \"liab\", \"equity_cap\", \"bank_eq_cap\", \n",
    "                                    \"stock_pref\", \"stock_common\", \"surplus\", \n",
    "                                    \"profits\", \"forex_adj\", \"inc_comprehensive\", \n",
    "                                    \"gains_afs_sec\", \"tier1_leverage\", \"tier1_risk\", \n",
    "                                    \"risk_cap\", \"loans_30_89_due\", \"loans_90plus_due\", \n",
    "                                    \"loans_nonaccrual\", \"loans_restructured\", \n",
    "                                    \"income_uncollected\", \"loans_foreign_office\", \n",
    "                                    \"assets_foreign_office\", \"loans_held_sale\", \n",
    "                                    \"assets_earning\", \"loan_commit\", \"hel_unused\", \n",
    "                                    \"cc_lines_unused\", \"com_re_unused\", \"loan_commit_other\", \n",
    "                                    \"com_re_unsec_unused\", \"sec_underwriting\")"
   ]
  },
  {
   "cell_type": "code",
   "execution_count": null,
   "metadata": {
    "vscode": {
     "languageId": "r"
    }
   },
   "outputs": [],
   "source": [
    "# Change second instance of \"loans_re\"\n",
    "colnames(FDIC_data)[colnames(FDIC_data) == \"loans_re\"][2] <- \"loans_re_alt\"    \n",
    "# Change second instance of \"loans_res_mort\"\n",
    "colnames(FDIC_data)[colnames(FDIC_data) == \"loans_res_mort\"][2] <- \"loans_res_mort_alt\"\n",
    "# Change second instance of \"loans_nonres\"\n",
    "colnames(FDIC_data)[colnames(FDIC_data) == \"loans_nonres\"][2] <- \"loans_nonres_alt\""
   ]
  },
  {
   "cell_type": "markdown",
   "metadata": {},
   "source": [
    "## Selecting columns needed for deposit prediction"
   ]
  },
  {
   "cell_type": "code",
   "execution_count": null,
   "metadata": {
    "vscode": {
     "languageId": "r"
    }
   },
   "outputs": [],
   "source": [
    "# Deposits = Foreign Office Deposits + Domestic Office Deposits\n",
    "columns_to_keep <- c(\"time\", \"deposits\")\n",
    "deposit_levels <- FDIC_data[, columns_to_keep]\n",
    "\n",
    "# Transform deposit column into a numeric instaed of character\n",
    "deposit_levels$deposits <- as.numeric(deposit_levels$deposits)\n",
    "\n",
    "# Make deposit its full value/correct unit (in million)\n",
    "deposit_levels$deposits <- deposit_levels$deposits * 1000000"
   ]
  },
  {
   "cell_type": "code",
   "execution_count": null,
   "metadata": {
    "vscode": {
     "languageId": "r"
    }
   },
   "outputs": [],
   "source": [
    "saveRDS(deposit_levels, \"deposit_levels.rds\")  # Save the data to call it in other notebooks"
   ]
  }
 ],
 "metadata": {
  "kernelspec": {
   "display_name": "R",
   "language": "R",
   "name": "ir"
  },
  "language_info": {
   "name": "R"
  }
 },
 "nbformat": 4,
 "nbformat_minor": 2
}
