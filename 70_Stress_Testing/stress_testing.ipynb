{
 "cells": [
  {
   "cell_type": "code",
   "execution_count": 1,
   "metadata": {
    "vscode": {
     "languageId": "r"
    }
   },
   "outputs": [
    {
     "ename": "ERROR",
     "evalue": "Error in library(readxl): there is no package called ‘readxl’\n",
     "output_type": "error",
     "traceback": [
      "Error in library(readxl): there is no package called ‘readxl’\nTraceback:\n",
      "1. stop(packageNotFoundError(package, lib.loc, sys.call()))"
     ]
    }
   ],
   "source": [
    "# https://otexts.com/fpp3/prophet.html\n",
    "# Load required libraries. Make sure to install themknhibwdewedh eewd\n",
    "library(dplyr)\n",
    "library(Rcpp)\n",
    "library(ggplot2)\n",
    "library(lubridate)\n",
    "library(forecast)\n",
    "library(prophet)\n",
    "library(Metrics)\n",
    "library(zoo) # use for date formatting \n",
    "library(stats) # use for additive\n",
    "library(caret)\n",
    "library(glmnet)\n",
    "library(fredr)\n",
    "#library(tidyverse)"
   ]
  },
  {
   "cell_type": "code",
   "execution_count": null,
   "metadata": {
    "vscode": {
     "languageId": "r"
    }
   },
   "outputs": [],
   "source": [
    "# Extract deposit_levels to use it in this file\n",
    "deposits <- readRDS(\"/workspaces/DUKE_MIDS_QFC_Final_Project/model_prediction/deposits.rds\") # Load the data\n",
    "deposits$date <- deposits$time_as_date"
   ]
  },
  {
   "cell_type": "code",
   "execution_count": null,
   "metadata": {
    "vscode": {
     "languageId": "r"
    }
   },
   "outputs": [],
   "source": [
    "# Extract regressors_data to use it in this file\n",
    "regressors_data <- readRDS(\"/workspaces/DUKE_MIDS_QFC_Final_Project/data_cleaning/regressors_data.rds\")"
   ]
  },
  {
   "cell_type": "code",
   "execution_count": null,
   "metadata": {
    "vscode": {
     "languageId": "r"
    }
   },
   "outputs": [],
   "source": [
    "# Extract regressors_data to use it in this file\n",
    "prediction_data_2 <-readRDS(\"/workspaces/DUKE_MIDS_QFC_Final_Project/model_prediction/prediction_data_2.rds\")"
   ]
  },
  {
   "cell_type": "code",
   "execution_count": null,
   "metadata": {
    "vscode": {
     "languageId": "r"
    }
   },
   "outputs": [],
   "source": [
    "# Create a linear regression model to asssess the relationship (sensitivity=coefficient) of different factors on the deposit \n",
    "\n",
    "# Step 1: Fetch the regressors online: fed_rate (FEDFUNDS), unemployment_rate (UNRATE), consumer_price_index (UMCSENT), GDP, NASDAQ (NASDAQCOM), (U.S. National Home Price Index) CSUSHPINSA.\n",
    "# NOTE: use change rate for all the indicators to capture the reaction to shifts in rates and not the plain absolute value\n",
    "\n",
    "  # FRED API KEY: 4bb02eefc8f7c17a772e030373156e50\n",
    "fredr_set_key(\"4bb02eefc8f7c17a772e030373156e50\")\n",
    "\n",
    "  # Define the time range\n",
    "start_date <- as.Date(\"1984-01-01\")\n",
    "end_date <- as.Date(\"2024-04-01\")\n",
    "\n",
    "  # Fetch federal funds rate data\n",
    "fed_funds <- fredr(\n",
    "  series_id = \"FEDFUNDS\",\n",
    "  observation_start = start_date,\n",
    "  observation_end = end_date,\n",
    "  frequency = \"q\",\n",
    "  units = \"pch\"\n",
    ")\n",
    "fed_funds <- fed_funds %>%\n",
    "  rename(federal_rate = value)\n",
    "\n",
    "  # Fetch unemployment rate data\n",
    "unemployment <- fredr(\n",
    "  series_id = \"UNRATE\",\n",
    "  observation_start = start_date,\n",
    "  observation_end = end_date,\n",
    "  frequency = \"q\",\n",
    "  units = \"pch\"\n",
    "\n",
    ")\n",
    "unemployment <- unemployment %>%\n",
    "  rename(unemployment_rate = value)\n",
    "\n",
    "  # Fetch consumer_price_index (UMCSENT)\n",
    "\n",
    "CPI <- fredr(\n",
    "  series_id = \"UMCSENT\",\n",
    "  observation_start = start_date,\n",
    "  observation_end = end_date,\n",
    "  frequency = \"q\",\n",
    "  units = \"pch\"\n",
    "\n",
    ")\n",
    "CPI <- CPI %>%\n",
    "  rename(CPI = value)\n",
    "\n",
    "   # Fetch GDP rate data\n",
    "GDP <- fredr(\n",
    "  series_id = \"GDP\",\n",
    "  observation_start = start_date,\n",
    "  observation_end = end_date,\n",
    "  frequency = \"q\",\n",
    "  units = \"pch\"\n",
    "\n",
    ")\n",
    "GDP <- GDP %>%\n",
    "  rename(gdp_rate = value)\n",
    "\n",
    "\n",
    "   # Fetch NASDAQ rate data\n",
    "NASDAQ <- fredr(\n",
    "  series_id = \"NASDAQCOM\",\n",
    "  observation_start = start_date,\n",
    "  observation_end = end_date,\n",
    "  frequency = \"q\",\n",
    "  units = \"pch\"\n",
    ")\n",
    "NASDAQ <- NASDAQ %>%\n",
    "  rename(NASDAQ_value = value)\n",
    "\n",
    "   # Fetch Case-Shiller Home Price Index rate data\n",
    "housing <- fredr(\n",
    "  series_id = \"CSUSHPINSA\",\n",
    "  observation_start = start_date,\n",
    "  observation_end = end_date,\n",
    "  frequency = \"q\",\n",
    "  units = \"pch\"\n",
    ")\n",
    "housing <- housing %>%\n",
    "  rename(Home_Price_Index = value)\n",
    "\n",
    "# Step 2: Create a dataframe off all the regressors with the deposit level from 1984 to 2024 \n",
    "\n",
    "data_to_merge <- list(fed_funds, unemployment, CPI, GDP, NASDAQ, housing, deposits)\n",
    "\n",
    "merge_data <- Reduce(function(x, y) {\n",
    "  merge(x, y, by = c(\"date\"), all = TRUE)\n",
    "}, data_to_merge) # merge to get only the all regressors\n",
    "\n",
    "merge_data <- merge_data %>%\n",
    "  select(-matches(\"series_id|realtime_end|realtime_start|time|time_as_date|time_as_numeric\")) # filter to remove unwanted columns\n",
    "\n"
   ]
  },
  {
   "cell_type": "markdown",
   "metadata": {},
   "source": [
    "# Step 1: Create a linear regression model to asssess the relationship (sensitivity=coefficient) of different factors on the deposit "
   ]
  },
  {
   "cell_type": "code",
   "execution_count": null,
   "metadata": {
    "vscode": {
     "languageId": "r"
    }
   },
   "outputs": [],
   "source": [
    "# Calculate sensitivy:\n",
    "\n",
    "# Drop nas\n",
    "merge_data <- na.omit(merge_data)\n",
    "\n",
    "# Linear regression\n",
    "linear_regression <- lm(deposits ~ federal_rate + gdp_rate + unemployment_rate + CPI + Home_Price_Index + NASDAQ_value , data = merge_data)\n",
    "summary(linear_regression)\n",
    "# Running the model with all the regressors gives me a pvalue > 0.05 so i had to remove some regressors for the regressors to be significant\n",
    "# A 1% change in federal rate leads to a $548,000,000 change in deposits"
   ]
  },
  {
   "cell_type": "markdown",
   "metadata": {},
   "source": [
    "# Step 2: Run the Monte Carlo Simulations"
   ]
  },
  {
   "cell_type": "code",
   "execution_count": null,
   "metadata": {
    "vscode": {
     "languageId": "r"
    }
   },
   "outputs": [],
   "source": [
    "\n",
    "# Step 3: Define stress test parameters\n",
    "\n",
    "drop_in_interest_rate <- 0.05  # 5% drop based mid 2007-to december 2028\n",
    "sensitivity <- -0.591  # ($ 0.59 in billion)  A 1% change in federal rate leads to a $596,000,000 decline in deposits based on lm mode\n",
    "\n",
    "\n",
    "# Step 4: Monte Carlo simulation\n",
    "set.seed(42) # For reproducibility\n",
    "num_simulations <- 100000\n",
    "simulated_deposits <- numeric(num_simulations)\n",
    "deposit_2025 <- 354271700 #(in thousands, from XGboost ==> 3.54 trillion)\n",
    "\n",
    "for (i in 1:num_simulations) {\n",
    "  random_factor <- rnorm(1, mean = 1 + sensitivity * drop_in_interest_rate, sd = 0.05) # Adjust standard deviation as needed\n",
    "  simulated_deposits[i] <- deposit_2025 * random_factor\n",
    "}\n",
    "\n",
    "# step 5: Calculate statistics\n",
    "mean_value <- mean(simulated_deposits)\n",
    "VAR <- quantile(simulated_deposits, 0.05)\n",
    "\n",
    "data <- data.frame(simulated_deposits)\n",
    "\n",
    "# Step 6: Plot\n",
    "ggplot(data, aes(x = simulated_deposits)) +\n",
    "  geom_histogram(binwidth = 10000, fill = \"skyblue\", color = \"skyblue\", alpha = 0.7) +\n",
    "  geom_vline(xintercept = mean_value, color = \"blue\", linetype = \"dashed\", size = 1, label = \"Mean\") +\n",
    "  geom_vline(xintercept = VAR, color = \"red\", linetype = \"dashed\", size = 1) +\n",
    "  labs(\n",
    "    title = \"Distribution of Deposit Levels Under Stress Test 2025\",\n",
    "    x = \"Deposit Level ($)\",\n",
    "    y = \"Frequency\"\n",
    "  ) +\n",
    "  annotate(\"text\", x = mean_value, y = 45, label = (\"Mean:  $343 trillion\"), color = \"blue\", size = 8, face = \"bold\") +\n",
    "  annotate(\"text\", x = VAR, y = 50, label = (\"VAR: $314 trillion\"), color = \"red\", size = 8, face = \"bold\") +\n",
    "  theme_classic() +\n",
    "  theme(\n",
    "    plot.title = element_text(size = 15, face = \"bold\"),\n",
    "    axis.title = element_text(size = 14),\n",
    "    axis.text = element_text(size = 12)\n",
    "  )\n"
   ]
  }
 ],
 "metadata": {
  "kernelspec": {
   "display_name": "R",
   "language": "R",
   "name": "ir"
  },
  "language_info": {
   "codemirror_mode": "r",
   "file_extension": ".r",
   "mimetype": "text/x-r-source",
   "name": "R",
   "pygments_lexer": "r",
   "version": "3.6.3"
  }
 },
 "nbformat": 4,
 "nbformat_minor": 2
}
